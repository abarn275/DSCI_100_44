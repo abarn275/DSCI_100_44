{
 "cells": [
  {
   "cell_type": "markdown",
   "metadata": {},
   "source": [
    "Title pending"
   ]
  },
  {
   "cell_type": "markdown",
   "metadata": {},
   "source": [
    "Introduction:\n",
    "\n",
    "Attribute Information: \n",
    "This dataset contains information about student study habits, exam performance, and overall knowledge level on the subject of electrical DC machines. The dataset was provided by undergraduate studnets at the Department of Electrical Education of Gazi University. Information on overall knowledge level was collected using an intuitive knowledge classifier \n",
    "\n",
    "Question: \n",
    "What is a person's overall knowledge level of electrical Direct Current (DC) machines based on their duration of study and performance on exams related to the subject?\n",
    "\n",
    "Dataset:\n",
    "The User Knowledge Modeling Data Set was used for this project. This project will develop a method for classifying observations with unknown UNS values. UNS is a type of factor variable which classifies level of student understanding of electrical DC machines. Classification predictions will be made based on the STG and PEG columns, which are double floating point variables that contain observations for degree of study time for relevant materials and exam performance for relevant goals respectively. "
   ]
  },
  {
   "cell_type": "code",
   "execution_count": 33,
   "metadata": {},
   "outputs": [
    {
     "name": "stderr",
     "output_type": "stream",
     "text": [
      "Updating HTML index of packages in '.Library'\n",
      "\n",
      "Making 'packages.html' ...\n",
      " done\n",
      "\n"
     ]
    }
   ],
   "source": [
    "#readxl doesn't accept URLs, so I'm using the rio library as a workaround.\n",
    "library(tidyverse)\n",
    "install.packages(\"rio\")\n",
    "library(rio)"
   ]
  },
  {
   "cell_type": "code",
   "execution_count": 192,
   "metadata": {},
   "outputs": [],
   "source": [
    "#reading and cleaning up the sheet + transforming UNS into factor data. Feel free to clean this up, since I'm not entirely sure what to do with it\n",
    "url <- \"https://archive.ics.uci.edu/ml/machine-learning-databases/00257/Data_User_Modeling_Dataset_Hamdi%20Tolga%20KAHRAMAN.xls\"\n",
    "knowledge <- import(file = url, sheet = 2, range = \"A1:F259\") \n",
    "knowledge$UNS <- gsub('very_low', 'Very Low', knowledge$UNS)\n",
    "knowledge <- mutate(knowledge, UNS = as_factor(UNS))\n",
    "knowledge"
   ]
  },
  {
   "cell_type": "code",
   "execution_count": 191,
   "metadata": {},
   "outputs": [
    {
     "name": "stderr",
     "output_type": "stream",
     "text": [
      "`summarise()` ungrouping output (override with `.groups` argument)\n",
      "\n"
     ]
    }
   ],
   "source": [
    "#finding total number of each class to check for over/underrepresentation\n",
    "class_total <- group_by(knowledge, UNS) %>%\n",
    "summarize(n = n())\n",
    "class_total\n",
    "\n",
    "#checking for total missing values in relevant variables\n",
    "is_na <- select(knowledge, STG, PEG) %>%\n",
    "summarize(STG_na_total = sum(is.na(STG)), PEG_na_total = sum(is.na(PEG)))\n",
    "is_na\n",
    "\n",
    "#are there any other summary statistics that might be relevant for a classification problem?"
   ]
  },
  {
   "cell_type": "code",
   "execution_count": 190,
   "metadata": {},
   "outputs": [],
   "source": [
    "#visualization with relevant predictor variables\n",
    "#the data seems to have been standardized in some way, but I'm not certain exactly what they did? I don't see any information about this\n",
    "#on the sheets. if you figure out what it is please lmk\n",
    "options(repr.plot.width = 13, repr.plot.height = 10) \n",
    "knowledge$UNS <- (factor(knowledge$UNS, levels = c('High', 'Middle', 'Low', 'Very Low'))) #the way i rearranged this legend is kind of goofy. feel free to clean it up\n",
    "knowledge_plot <- ggplot(knowledge, aes(x = STG, y = PEG, color = knowledge$UNS)) +\n",
    "geom_point(alpha = 0.5) + #there aren't too many overlapping points, but we might want to include an alpha value?\n",
    "labs(x = 'Degree of Study Time for Relevant Material (Standardized?)', y = 'Exam Performance on Relevant Material (Standardized?)', color = 'Level of Knowledge of Material') +\n",
    "ggtitle(\"Graph of Study Time vs. Exam Performance for Material Related to Electrical DC Machines\") +\n",
    "theme(text = element_text(size = 15)) +\n",
    "scale_color_brewer(palette = 'Set2') #colourblind friendly. feel free to choose an alternate option, though.\n",
    "knowledge_plot"
   ]
  }
 ],
 "metadata": {
  "kernelspec": {
   "display_name": "R",
   "language": "R",
   "name": "ir"
  },
  "language_info": {
   "codemirror_mode": "r",
   "file_extension": ".r",
   "mimetype": "text/x-r-source",
   "name": "R",
   "pygments_lexer": "r",
   "version": "4.0.0"
  }
 },
 "nbformat": 4,
 "nbformat_minor": 4
}
