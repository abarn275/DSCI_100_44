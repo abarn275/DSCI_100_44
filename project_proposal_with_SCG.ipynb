{
 "cells": [
  {
   "cell_type": "markdown",
   "metadata": {},
   "source": [
    "# Modelling Students User Knowledge on Electrical Direct Current Machines"
   ]
  },
  {
   "cell_type": "markdown",
   "metadata": {},
   "source": [
    "## Introduction:\n",
    "\n",
    "This dataset contains information about student study habits, exam performance, and overall knowledge level on the subject of electrical DC machines. The dataset was provided by undergraduate studnets at the Department of Electrical Education of Gazi University. Information on overall knowledge level was collected using an intuitive knowledge classifier. This project will explore the question of \"what is a person's overall knowledge level of electrical DC machines based on their duration of study and number of repeated times studying?\". The dataset used it the User Knowledge Modeling Data Set. This project will develop a method for classifying observations with unknown UNS values. UNS is a type of factor variable which classifies level of student understanding of electrical DC machines. Classification predictions will be made based on the STG and SCG columns, which are double floating point variables that contain observations for degree of study time for relevant materials and the degree of number of repetitions of relevant material during study respectively. "
   ]
  },
  {
   "cell_type": "code",
   "execution_count": null,
   "metadata": {},
   "outputs": [],
   "source": [
    "suppressMessages(library(tidyverse))\n",
    "suppressMessages(library(readxl))\n",
    "suppressMessages(library(repr))\n",
    "suppressMessages(library(tidymodels))"
   ]
  },
  {
   "cell_type": "code",
   "execution_count": null,
   "metadata": {},
   "outputs": [],
   "source": [
    "url <- \"https://archive.ics.uci.edu/ml/machine-learning-databases/00257/Data_User_Modeling_Dataset_Hamdi%20Tolga%20KAHRAMAN.xls\"\n",
    "download.file(url, \"knowledge_data.xls\")\n",
    "\n",
    "knowledge_train <- read_excel(\"knowledge_data.xls\", sheet = 2, range = \"A1:F259\")\n",
    "knowledge_test <- read_excel('knowledge_data.xls', sheet = 3, range = \"A1:F146\")\n",
    " \n",
    "knowledge_train$UNS <- gsub('very_low', 'Very Low', knowledge_train$UNS)\n",
    "knowledge_test$UNS <- gsub('very_low', 'Very Low', knowledge_test$UNS)\n",
    "\n",
    "head(knowledge_train) \n",
    "head(knowledge_test)"
   ]
  },
  {
   "cell_type": "code",
   "execution_count": null,
   "metadata": {},
   "outputs": [],
   "source": [
    "#finding total number of each class to check for over/underrepresentation\n",
    "class_total <- group_by(knowledge_train, UNS) %>%\n",
    "    summarize(n = n())\n",
    "class_total\n",
    "\n",
    "#checking for total missing values in relevant variables\n",
    "is_na <- select(knowledge_train, STG, SCG) %>%\n",
    "    summarize(STG_na_total = sum(is.na(STG)), SCG_na_total = sum(is.na(SCG)))\n",
    "is_na"
   ]
  },
  {
   "cell_type": "code",
   "execution_count": null,
   "metadata": {},
   "outputs": [],
   "source": [
    "options(repr.plot.width = 12, repr.plot.height = 8) \n",
    "knowledge_train$UNS <- (factor(knowledge_train$UNS, levels = c('High', 'Middle', 'Low', 'Very Low'))) \n",
    "knowledge_plot <- ggplot(knowledge_train, aes(x = STG, y = SCG, color = UNS)) +\n",
    "    geom_point(alpha = 0.5) + \n",
    "    labs(x = 'Degree of Study Time for Relevant Material (Standardized?)', y = 'Degree of Number of Repetitions of Relevant Material During Study (standardized?)', color = 'Level of Knowledge of Material') +\n",
    "    ggtitle(\"Graph of Study Time vs. Study Repetitions for Material Related to Electrical DC Machines\") +\n",
    "    theme(text = element_text(size = 15)) +\n",
    "    scale_color_brewer(palette = 'Set2') \n",
    "knowledge_plot"
   ]
  },
  {
   "cell_type": "markdown",
   "metadata": {},
   "source": [
    "## Method\n",
    "\n",
    "1. We will use Repr Tidyverse, and Tidymodels libraries.\n",
    "2. Import file into the software. Clean and wrangle data. Legend is made uniform using Gsub function. Dataset is already split into training and testing sets with appropriate proportions.\n",
    "3. Do summary statistics on training/testing data where applicable, and visualize the training data.\n",
    "4. Split training data into C groups. Perform cross-validation to determine best fit for K.\n",
    "5. Produce a visualization of K accuracy. Use the K-value with the most accurate prediction accuracy.\n",
    "6. Prepare classification model (recipe, model, workflow, fit), and predict on testing data.\n",
    "7. Collect metrics and do a confusion matrix on the prediction to assess accuracy.\n",
    "8. Produce a visualization of results.\n",
    "9. Create accuracy matrix.\n"
   ]
  },
  {
   "cell_type": "markdown",
   "metadata": {},
   "source": [
    "## Expected Outcomes and Significance\n",
    "This project expects to find the most optimal K-value through cross validation and a prediction of user knowledge score (UNS) using K-nearest neighbours classification with predictors study time (STG) and the number of repetitions on relevant materials (SCG). These findings will impact the specifications and the accuracy of our model and our model's capacity to predict user knowledge level respectively. Relevant questions emerging from this project may include how the findings can improve the effectiveness of study of electrical DC machines and the extent to which these findings can be applied to the study strategies of a broader group of subjects and students. In addition, further inquiries could pursue different predictors not in this data set to classify user knowledge of electrical DC machines, such as health habits and other study strategies that was not analyzed in the DC machine learning dataset. This could result in the finding of superior predictors for the classified variable."
   ]
  },
  {
   "cell_type": "code",
   "execution_count": null,
   "metadata": {},
   "outputs": [],
   "source": []
  }
 ],
 "metadata": {
  "kernelspec": {
   "display_name": "R",
   "language": "R",
   "name": "ir"
  },
  "language_info": {
   "codemirror_mode": "r",
   "file_extension": ".r",
   "mimetype": "text/x-r-source",
   "name": "R",
   "pygments_lexer": "r",
   "version": "4.0.0"
  }
 },
 "nbformat": 4,
 "nbformat_minor": 4
}
